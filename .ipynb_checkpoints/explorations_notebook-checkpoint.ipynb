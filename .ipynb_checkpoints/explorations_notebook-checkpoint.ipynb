{
 "cells": [
  {
   "cell_type": "code",
   "execution_count": 1,
   "metadata": {
    "collapsed": true
   },
   "outputs": [],
   "source": [
    "import sys\n",
    "import pickle\n",
    "import matplotlib.pyplot as plt\n",
    "import numpy as np\n",
    "sys.path.append(\"../tools/\")\n",
    "\n",
    "from feature_format import featureFormat, targetFeatureSplit\n",
    "from tester import dump_classifier_and_data"
   ]
  },
  {
   "cell_type": "markdown",
   "metadata": {},
   "source": [
    "## Task 1: Select what features you'll use."
   ]
  },
  {
   "cell_type": "code",
   "execution_count": 2,
   "metadata": {
    "collapsed": true
   },
   "outputs": [],
   "source": [
    "### features_list is a list of strings, each of which is a feature name.\n",
    "### The first feature must be \"poi\".\n",
    "financial_features = ['salary', 'deferral_payments', 'total_payments', 'loan_advances', 'bonus', \n",
    "                      'restricted_stock_deferred', 'deferred_income', 'total_stock_value', \n",
    "                      'expenses', 'exercised_stock_options', 'other', 'long_term_incentive', \n",
    "                      'restricted_stock', 'director_fees']\n",
    "\n",
    "email_features = ['to_messages', 'from_poi_to_this_person', 'from_messages', \n",
    "                  'from_this_person_to_poi', 'shared_receipt_with_poi']\n",
    "\n",
    "features_list = [\"poi\"] + financial_features + email_features\n",
    "\n",
    "\n",
    "### Load the dictionary containing the dataset\n",
    "with open(\"final_project_dataset.pkl\", \"r\") as data_file:\n",
    "    data_dict = pickle.load(data_file)"
   ]
  },
  {
   "cell_type": "markdown",
   "metadata": {},
   "source": [
    "Let's see what the data looks like to get a feel for it."
   ]
  },
  {
   "cell_type": "code",
   "execution_count": 3,
   "metadata": {
    "collapsed": false
   },
   "outputs": [
    {
     "name": "stdout",
     "output_type": "stream",
     "text": [
      "MORDAUNT KRISTINA M\n",
      "salary :  267093\n",
      "to_messages :  NaN\n",
      "deferral_payments :  NaN\n",
      "total_payments :  628522\n",
      "exercised_stock_options :  NaN\n",
      "bonus :  325000\n",
      "restricted_stock :  208510\n",
      "shared_receipt_with_poi :  NaN\n",
      "restricted_stock_deferred :  NaN\n",
      "total_stock_value :  208510\n",
      "expenses :  35018\n",
      "loan_advances :  NaN\n",
      "from_messages :  NaN\n",
      "other :  1411\n",
      "from_this_person_to_poi :  NaN\n",
      "poi :  False\n",
      "director_fees :  NaN\n",
      "deferred_income :  NaN\n",
      "long_term_incentive :  NaN\n",
      "from_poi_to_this_person :  NaN\n"
     ]
    }
   ],
   "source": [
    "name = data_dict.keys()[5]\n",
    "print name\n",
    "for item in data_dict[name]:\n",
    "    if item in features_list:\n",
    "        print item, \": \", data_dict[name][item]"
   ]
  },
  {
   "cell_type": "markdown",
   "metadata": {},
   "source": [
    "## Task 2: Remove outliers"
   ]
  },
  {
   "cell_type": "code",
   "execution_count": 4,
   "metadata": {
    "collapsed": false
   },
   "outputs": [
    {
     "data": {
      "image/png": "[encoded data removed]",
      "text/plain": [
       "<matplotlib.figure.Figure at 0x10c34e250>"
      ]
     },
     "metadata": {},
     "output_type": "display_data"
    }
   ],
   "source": [
    "plt.scatter([v[\"salary\"] for k,v in data_dict.items()], [v[\"total_payments\"] for k,v in data_dict.items()])\n",
    "plt.show()"
   ]
  },
  {
   "cell_type": "markdown",
   "metadata": {},
   "source": [
    "Inspection of the data set (as done in the lesson on outliers) as well as the accompanying PDF with the data shows that this outlier goes by the name of \"TOTAL\" and that there is also another interesting entry called THE TRAVEL AGENCY IN THE PARK. Both do not appear to be employees, so we'll remove those."
   ]
  },
  {
   "cell_type": "code",
   "execution_count": 5,
   "metadata": {
    "collapsed": false
   },
   "outputs": [
    {
     "data": {
      "image/png": "[encoded data removed]",
      "text/plain": [
       "<matplotlib.figure.Figure at 0x10c34e2d0>"
      ]
     },
     "metadata": {},
     "output_type": "display_data"
    }
   ],
   "source": [
    "data_dict.pop(\"TOTAL\", 0) #discovered in the Outlier Lesson\n",
    "data_dict.pop(\"THE TRAVEL AGENCY IN THE PARK\", 0) #from the accompanying PDF\n",
    "\n",
    "plt.scatter([v[\"salary\"] for k,v in data_dict.items()], [v[\"bonus\"] for k,v in data_dict.items()])\n",
    "plt.show()"
   ]
  },
  {
   "cell_type": "markdown",
   "metadata": {},
   "source": [
    "Next up, let's see how many NaN's we have per feature. We could see in our previous exploration of what the data looks like, that there are already a lot of NaN's showing up."
   ]
  },
  {
   "cell_type": "code",
   "execution_count": 6,
   "metadata": {
    "collapsed": false
   },
   "outputs": [
    {
     "name": "stdout",
     "output_type": "stream",
     "text": [
      "Number of NaN's per feature\n",
      "poi :  0\n",
      "salary :  50\n",
      "deferral_payments :  106\n",
      "total_payments :  21\n",
      "loan_advances :  141\n",
      "bonus :  63\n",
      "restricted_stock_deferred :  127\n",
      "deferred_income :  96\n",
      "total_stock_value :  19\n",
      "expenses :  50\n",
      "exercised_stock_options :  43\n",
      "other :  53\n",
      "long_term_incentive :  79\n",
      "restricted_stock :  35\n",
      "director_fees :  128\n",
      "to_messages :  58\n",
      "from_poi_to_this_person :  58\n",
      "from_messages :  58\n",
      "from_this_person_to_poi :  58\n",
      "shared_receipt_with_poi :  58\n"
     ]
    }
   ],
   "source": [
    "print \"Number of NaN's per feature\"\n",
    "for f in features_list:\n",
    "    print f, \": \", sum([1 for k,v in data_dict.items() if v[f] == \"NaN\"])"
   ]
  },
  {
   "cell_type": "markdown",
   "metadata": {},
   "source": [
    "Seeing this I wondered what an estimator would even go on with so many NaN's. But obviously when it comes to payments, people can receive money in various ways, and this does not necessary mean that there is no information at all about what an employee has received financially. Let's first see if there are people about whom we have no financial data at all."
   ]
  },
  {
   "cell_type": "code",
   "execution_count": 7,
   "metadata": {
    "collapsed": false
   },
   "outputs": [
    {
     "name": "stdout",
     "output_type": "stream",
     "text": [
      "No financial information at all:  ['LOCKHART EUGENE E']\n"
     ]
    }
   ],
   "source": [
    "finance_nans = [k for k,v in data_dict.items() if all([v[f] == \"NaN\" for f in financial_features])]\n",
    "print \"No financial information at all: \", finance_nans"
   ]
  },
  {
   "cell_type": "markdown",
   "metadata": {},
   "source": [
    "This is promising, because it means that for almost every entry in our data set there is some financial information. Considering that there is such a difference in how people can be compensated, it may be interesting to add an extra feature with total_value where we combine total_payments and total_stock_value."
   ]
  },
  {
   "cell_type": "markdown",
   "metadata": {},
   "source": [
    "Lastly, the POI's are obviously underrepresented in the data set. That means that the probability of someone being a POI is already very low, so it is easy for a classifier to underestimate the chances of someone being a POI and still have a high accuracy. So let's first establish a base rate and look at the ratio of POI's in our data set."
   ]
  },
  {
   "cell_type": "code",
   "execution_count": 8,
   "metadata": {
    "collapsed": false
   },
   "outputs": [
    {
     "name": "stdout",
     "output_type": "stream",
     "text": [
      "Number of POI's:  18\n",
      "Number of non POI's:  126\n",
      "Chance of randomly selecting non POI:  0.875\n"
     ]
    }
   ],
   "source": [
    "is_poi = sum([1 for k,v in data_dict.items() if v[\"poi\"]])\n",
    "is_not_poi = sum([1 for k,v in data_dict.items() if not v[\"poi\"]])\n",
    "print \"Number of POI's: \", is_poi\n",
    "print \"Number of non POI's: \", is_not_poi\n",
    "print \"Chance of randomly selecting non POI: \", is_not_poi / float(is_poi + is_not_poi)"
   ]
  },
  {
   "cell_type": "markdown",
   "metadata": {},
   "source": [
    "This would mean that just going for always saying someone is not a POI will give you a .875 accuracy score. "
   ]
  },
  {
   "cell_type": "markdown",
   "metadata": {},
   "source": [
    "## Task 3: Feature Selection and Creation"
   ]
  },
  {
   "cell_type": "markdown",
   "metadata": {},
   "source": [
    "Let's continue with feature selection and creation. One of the things I think is interesting to add as a feature is the ratio of messages received from and sent to POI's. Receiving a lot of emails from a POI does not necessarily mean a strong relation if that person receives a lot of emails from everyone, so a rate may be more telling of what is going on."
   ]
  },
  {
   "cell_type": "markdown",
   "metadata": {},
   "source": [
    "#### *Feature: from/to POI*"
   ]
  },
  {
   "cell_type": "code",
   "execution_count": 9,
   "metadata": {
    "collapsed": false
   },
   "outputs": [],
   "source": [
    "for k,v in data_dict.items():\n",
    "    if v[\"from_poi_to_this_person\"] != \"NaN\" and v[\"from_this_person_to_poi\"] != \"NaN\":\n",
    "        v[\"from_POI_rate\"] = v[\"from_poi_to_this_person\"] / float(v[\"to_messages\"])\n",
    "        v[\"to_POI_rate\"] = v[\"from_this_person_to_poi\"] / float(v[\"from_messages\"])\n",
    "    else:\n",
    "        v[\"from_POI_rate\"] = 0\n",
    "        v[\"to_POI_rate\"] = 0\n",
    "        \n",
    "features_list.append(\"from_POI_rate\")\n",
    "features_list.append(\"to_POI_rate\")"
   ]
  },
  {
   "cell_type": "code",
   "execution_count": 10,
   "metadata": {
    "collapsed": false
   },
   "outputs": [
    {
     "data": {
      "image/png": "[encoded data removed]",
      "text/plain": [
       "<matplotlib.figure.Figure at 0x10c596590>"
      ]
     },
     "metadata": {},
     "output_type": "display_data"
    }
   ],
   "source": [
    "plt.scatter([v[\"salary\"] for k,v in data_dict.items()], [v[\"to_POI_rate\"] for k,v in data_dict.items()])\n",
    "plt.show()"
   ]
  },
  {
   "cell_type": "markdown",
   "metadata": {},
   "source": [
    "It looks like there is one person with a rate of 1. Let's check who that is to make sure nothing went wrong in creating our feature."
   ]
  },
  {
   "cell_type": "code",
   "execution_count": 11,
   "metadata": {
    "collapsed": false
   },
   "outputs": [
    {
     "name": "stdout",
     "output_type": "stream",
     "text": [
      "[['HUMPHREY GENE E', 1.0, {'to_messages': 128, 'deferral_payments': 2964506, 'expenses': 4994, 'poi': False, 'deferred_income': 'NaN', 'email_address': 'gene.humphrey@enron.com', 'long_term_incentive': 'NaN', 'restricted_stock_deferred': 'NaN', 'shared_receipt_with_poi': 119, 'loan_advances': 'NaN', 'from_messages': 17, 'other': 'NaN', 'director_fees': 'NaN', 'to_POI_rate': 1.0, 'bonus': 'NaN', 'total_stock_value': 2282768, 'from_poi_to_this_person': 10, 'from_this_person_to_poi': 17, 'restricted_stock': 'NaN', 'from_POI_rate': 0.078125, 'salary': 130724, 'total_payments': 3100224, 'exercised_stock_options': 2282768}]]\n"
     ]
    }
   ],
   "source": [
    "print [[k, v[\"to_POI_rate\"], v] \n",
    "       for k,v in data_dict.items() if (v[\"to_POI_rate\"] > 0.95)]"
   ]
  },
  {
   "cell_type": "markdown",
   "metadata": {},
   "source": [
    "Looks fine. So, let's continue with creating a total_value feature that will be a sum of all the financial features."
   ]
  },
  {
   "cell_type": "markdown",
   "metadata": {},
   "source": [
    "#### *Feature: Total Value*"
   ]
  },
  {
   "cell_type": "code",
   "execution_count": 12,
   "metadata": {
    "collapsed": true
   },
   "outputs": [],
   "source": [
    "for k,v in data_dict.items():\n",
    "    if not all([v[f] == \"NaN\" for f in financial_features]):\n",
    "        v[\"total_value\"] = sum([v[f] for f in financial_features if (v[f] != \"NaN\")])\n",
    "    else:\n",
    "        v[\"total_value\"] = \"NaN\"\n",
    "        \n",
    "features_list.append(\"total_value\")"
   ]
  },
  {
   "cell_type": "code",
   "execution_count": 13,
   "metadata": {
    "collapsed": false
   },
   "outputs": [
    {
     "name": "stdout",
     "output_type": "stream",
     "text": [
      "METTS MARK :\n",
      "3293778 , 1061827 , 585062\n",
      "BAXTER JOHN C :\n",
      "32515202 , 5634343 , 10623258\n",
      "ELLIOTT STEVEN :\n",
      "13780920 , 211725 , 6678735\n",
      "CORDES WILLIAM R :\n",
      "2076370 , NaN , 1038185\n",
      "HANNON KEVIN P :\n",
      "13359494 , 288682 , 6391065\n",
      "MORDAUNT KRISTINA M :\n",
      "1674064 , 628522 , 208510\n",
      "MEYER ROCKFORD G :\n",
      "5608200 , 1848227 , 955873\n",
      "MCMAHON JEFFREY :\n",
      "11525252 , 4099771 , 1662855\n",
      "HORTON STANLEY C :\n",
      "20777016 , 3131860 , 7256648\n",
      "PIPER GREGORY F :\n",
      "5235838 , 1737629 , 880290\n"
     ]
    }
   ],
   "source": [
    "for k,v in data_dict.items()[0:10]:\n",
    "    print k,\":\\n\", v[\"total_value\"],\",\", v[\"total_payments\"], \",\", v[\"total_stock_value\"]"
   ]
  },
  {
   "cell_type": "code",
   "execution_count": null,
   "metadata": {
    "collapsed": false
   },
   "outputs": [],
   "source": []
  },
  {
   "cell_type": "markdown",
   "metadata": {},
   "source": [
    "#### *Extract features and labels from dataset for local testing*"
   ]
  },
  {
   "cell_type": "code",
   "execution_count": 106,
   "metadata": {
    "collapsed": false,
    "scrolled": true
   },
   "outputs": [],
   "source": [
    "from sklearn.feature_selection import SelectKBest, f_classif, chi2\n",
    "from sklearn import cross_validation\n",
    "from sklearn.preprocessing import MinMaxScaler, StandardScaler\n",
    "\n",
    "### Store to my_dataset for easy export for the grader.\n",
    "my_dataset = data_dict\n",
    "\n",
    "data = featureFormat(my_dataset, features_list, sort_keys = True)\n",
    "labels, features = targetFeatureSplit(data)\n",
    "\n",
    "features_train, features_test, labels_train, labels_test = cross_validation.train_test_split(\n",
    "    features, labels, test_size=0.3, random_state=42)"
   ]
  },
  {
   "cell_type": "code",
   "execution_count": 77,
   "metadata": {
    "collapsed": false
   },
   "outputs": [
    {
     "name": "stdout",
     "output_type": "stream",
     "text": [
      "Selected Features, Scores, P-Values\n",
      "('bonus', '30.729', '0.000')\n",
      "('salary', '15.859', '0.000')\n",
      "('to_POI_rate', '15.838', '0.000')\n",
      "('total_value', '10.803', '0.001')\n",
      "('shared_receipt_with_poi', '10.723', '0.001')\n",
      "('total_stock_value', '10.634', '0.002')\n",
      "('exercised_stock_options', '9.680', '0.002')\n",
      "('total_payments', '8.959', '0.003')\n",
      "('deferred_income', '8.792', '0.004')\n",
      "('restricted_stock', '8.058', '0.006')\n",
      "('long_term_incentive', '7.555', '0.007')\n",
      "('loan_advances', '7.038', '0.009')\n",
      "('from_poi_to_this_person', '4.959', '0.028')\n",
      "('expenses', '4.181', '0.044')\n",
      "('other', '3.204', '0.077')\n"
     ]
    }
   ],
   "source": [
    "selector = SelectKBest(f_classif, k=15)\n",
    "selector.fit_transform(features_train, labels_train)\n",
    "\n",
    "# Get KBest scores (rounded off)\n",
    "feature_scores = ['%.3f' % x for x in selector.scores_ ]\n",
    "# And p values:\n",
    "feature_scores_pvalues = ['%.3f' % x for x in  selector.pvalues_ ]\n",
    "# Get the feature names through the indices stored in .get_support_\n",
    "features_selected=[(features_list[i+1], feature_scores[i], feature_scores_pvalues[i]) for i in selector.get_support(indices=True)]\n",
    "\n",
    "# Sort the tuple by score, in reverse order\n",
    "features_selected = sorted(features_selected, key=lambda feature: float(feature[1]) , reverse=True)\n",
    "\n",
    "print 'Selected Features, Scores, P-Values'\n",
    "for x in features_selected:\n",
    "    print x\n",
    "    \n",
    "selected_feature_list = [\"poi\"] + [features_list[i+1] for i in selector.get_support(indices=True)]"
   ]
  },
  {
   "cell_type": "markdown",
   "metadata": {
    "collapsed": true
   },
   "source": [
    "## Task 4: Classification"
   ]
  },
  {
   "cell_type": "code",
   "execution_count": 78,
   "metadata": {
    "collapsed": false
   },
   "outputs": [],
   "source": [
    "from sklearn.naive_bayes import GaussianNB\n",
    "from sklearn.neighbors import KNeighborsClassifier\n",
    "from sklearn.svm import SVC\n",
    "from sklearn.tree import DecisionTreeClassifier\n",
    "from sklearn.metrics import classification_report\n",
    "from sklearn.metrics import confusion_matrix\n",
    "from sklearn.metrics import accuracy_score\n",
    "\n",
    "def score_clf(clf_selected, features_selected):\n",
    "    data = featureFormat(my_dataset, features_selected, sort_keys = True)\n",
    "    labels, features = targetFeatureSplit(data)\n",
    "    \n",
    "    features_scaled = StandardScaler().fit_transform(features)\n",
    "\n",
    "    features_train, features_test, labels_train, labels_test = cross_validation.train_test_split(\n",
    "    features_scaled, labels, test_size=0.3, random_state=42)\n",
    "    \n",
    "    clf = clf_selected\n",
    "    clf.fit(features_train, labels_train)\n",
    "    pred = clf.predict(features_test)\n",
    "\n",
    "    print \"Using classifier: \\n\\t\", str(clf_selected)\n",
    "    print\n",
    "    print \"With features: \\n\\t\", features_selected\n",
    "    print\n",
    "    print \"Accuracy is %.2f\" % accuracy_score(pred, labels_test)\n",
    "    print\n",
    "    print classification_report(labels_test, pred)\n",
    "    print\n",
    "    print confusion_matrix(labels_test, pred)"
   ]
  },
  {
   "cell_type": "markdown",
   "metadata": {},
   "source": [
    "#### Naive Bayes Classifier"
   ]
  },
  {
   "cell_type": "code",
   "execution_count": 79,
   "metadata": {
    "collapsed": false
   },
   "outputs": [
    {
     "name": "stdout",
     "output_type": "stream",
     "text": [
      "Using classifier: \n",
      "\tGaussianNB()\n",
      "\n",
      "With features: \n",
      "\t['poi', 'salary', 'total_payments', 'loan_advances', 'bonus', 'deferred_income', 'total_stock_value', 'expenses', 'exercised_stock_options', 'other', 'long_term_incentive', 'restricted_stock', 'from_poi_to_this_person', 'shared_receipt_with_poi', 'to_POI_rate', 'total_value']\n",
      "\n",
      "Accuracy is 0.86\n",
      "\n",
      "             precision    recall  f1-score   support\n",
      "\n",
      "        0.0       0.92      0.92      0.92        38\n",
      "        1.0       0.40      0.40      0.40         5\n",
      "\n",
      "avg / total       0.86      0.86      0.86        43\n",
      "\n",
      "\n",
      "[[35  3]\n",
      " [ 3  2]]\n"
     ]
    }
   ],
   "source": [
    "score_clf(GaussianNB(), selected_feature_list)"
   ]
  },
  {
   "cell_type": "markdown",
   "metadata": {},
   "source": [
    "#### K Nearest Neighbors Classifier"
   ]
  },
  {
   "cell_type": "code",
   "execution_count": 80,
   "metadata": {
    "collapsed": false
   },
   "outputs": [
    {
     "name": "stdout",
     "output_type": "stream",
     "text": [
      "Using classifier: \n",
      "\tKNeighborsClassifier(algorithm='auto', leaf_size=30, metric='minkowski',\n",
      "           metric_params=None, n_jobs=1, n_neighbors=3, p=2,\n",
      "           weights='uniform')\n",
      "\n",
      "With features: \n",
      "\t['poi', 'salary', 'total_payments', 'loan_advances', 'bonus', 'deferred_income', 'total_stock_value', 'expenses', 'exercised_stock_options', 'other', 'long_term_incentive', 'restricted_stock', 'from_poi_to_this_person', 'shared_receipt_with_poi', 'to_POI_rate', 'total_value']\n",
      "\n",
      "Accuracy is 0.84\n",
      "\n",
      "             precision    recall  f1-score   support\n",
      "\n",
      "        0.0       0.88      0.95      0.91        38\n",
      "        1.0       0.00      0.00      0.00         5\n",
      "\n",
      "avg / total       0.78      0.84      0.81        43\n",
      "\n",
      "\n",
      "[[36  2]\n",
      " [ 5  0]]\n"
     ]
    }
   ],
   "source": [
    "score_clf(KNeighborsClassifier(n_neighbors=3), selected_feature_list)"
   ]
  },
  {
   "cell_type": "markdown",
   "metadata": {},
   "source": [
    "#### SVM Classifier"
   ]
  },
  {
   "cell_type": "code",
   "execution_count": 58,
   "metadata": {
    "collapsed": false
   },
   "outputs": [
    {
     "name": "stdout",
     "output_type": "stream",
     "text": [
      "Using classifier: \n",
      "\tSVC(C=1.0, cache_size=200, class_weight=None, coef0=0.0,\n",
      "  decision_function_shape=None, degree=3, gamma='auto', kernel='rbf',\n",
      "  max_iter=-1, probability=False, random_state=None, shrinking=True,\n",
      "  tol=0.001, verbose=False)\n",
      "\n",
      "With features: \n",
      "\t['poi', 'salary', 'total_payments', 'bonus', 'restricted_stock_deferred', 'total_stock_value', 'expenses', 'exercised_stock_options', 'long_term_incentive', 'restricted_stock', 'to_messages', 'from_poi_to_this_person', 'from_this_person_to_poi', 'shared_receipt_with_poi', 'from_POI_rate', 'total_value']\n",
      "\n",
      "Accuracy is 0.88\n",
      "\n",
      "             precision    recall  f1-score   support\n",
      "\n",
      "        0.0       0.88      1.00      0.94        38\n",
      "        1.0       0.00      0.00      0.00         5\n",
      "\n",
      "avg / total       0.78      0.88      0.83        43\n",
      "\n",
      "\n",
      "[[38  0]\n",
      " [ 5  0]]\n"
     ]
    }
   ],
   "source": [
    "score_clf(SVC(kernel='rbf'), selected_feature_list)"
   ]
  },
  {
   "cell_type": "code",
   "execution_count": 116,
   "metadata": {
    "collapsed": false
   },
   "outputs": [
    {
     "name": "stdout",
     "output_type": "stream",
     "text": [
      "Using classifier: \n",
      "\tDecisionTreeClassifier(class_weight=None, criterion='gini', max_depth=None,\n",
      "            max_features=None, max_leaf_nodes=None, min_samples_leaf=1,\n",
      "            min_samples_split=2, min_weight_fraction_leaf=0.0,\n",
      "            presort=False, random_state=None, splitter='best')\n",
      "\n",
      "With features: \n",
      "\t['poi', 'salary', 'total_payments', 'loan_advances', 'bonus', 'deferred_income', 'total_stock_value', 'expenses', 'exercised_stock_options', 'other', 'long_term_incentive', 'restricted_stock', 'from_poi_to_this_person', 'shared_receipt_with_poi', 'to_POI_rate', 'total_value']\n",
      "\n",
      "Accuracy is 0.86\n",
      "\n",
      "             precision    recall  f1-score   support\n",
      "\n",
      "        0.0       0.92      0.92      0.92        38\n",
      "        1.0       0.40      0.40      0.40         5\n",
      "\n",
      "avg / total       0.86      0.86      0.86        43\n",
      "\n",
      "\n",
      "[[35  3]\n",
      " [ 3  2]]\n"
     ]
    }
   ],
   "source": [
    "score_clf(DecisionTreeClassifier(), selected_feature_list)"
   ]
  },
  {
   "cell_type": "markdown",
   "metadata": {
    "collapsed": false
   },
   "source": [
    "The first problem that pops up here is that because of our small sample size the score greatly varies everytime we run the algorithm. Also we want to make sure that our precision and recall are good enough, not just randomly, but by tuning our model. Precision and recall are good metrics in our case, because there is such a relatively small number of POI's that we want to know if the model identifies anything at all and if it does, how often is it correct? So let's move on to tuning our model."
   ]
  },
  {
   "cell_type": "markdown",
   "metadata": {
    "collapsed": true
   },
   "source": [
    "## Task 5: Tuning the Model"
   ]
  },
  {
   "cell_type": "markdown",
   "metadata": {},
   "source": [
    "Finally we will combine everything discussed in a grid search to find the best parameters. We will compare four classifiers, 3 options "
   ]
  },
  {
   "cell_type": "code",
   "execution_count": 118,
   "metadata": {
    "collapsed": false
   },
   "outputs": [
    {
     "name": "stdout",
     "output_type": "stream",
     "text": [
      "Using:  GaussianNB() \n",
      "With parameters:  {'ft_select__k': [5, 10, 15]}\n",
      "Best parameters:  {'ft_select__k': 15} \n",
      "Best score:  0.302132478632\n",
      "\n",
      "training time:  1.679\n",
      "\n",
      "--------------------------------------\n",
      "\n",
      "Using:  KNeighborsClassifier(algorithm='auto', leaf_size=30, metric='minkowski',\n",
      "           metric_params=None, n_jobs=1, n_neighbors=5, p=2,\n",
      "           weights='uniform') \n",
      "With parameters:  {'ft_select__k': [5, 10, 15], 'clf__leaf_size': [2, 8, 10, 14, 30], 'clf__algorithm': ['ball_tree', 'kd_tree'], 'clf__weights': ['uniform', 'distance'], 'clf__n_neighbors': [2, 3, 5, 10, 30]}\n",
      "Best parameters:  {'clf__weights': 'distance', 'clf__n_neighbors': 2, 'clf__algorithm': 'ball_tree', 'ft_select__k': 5, 'clf__leaf_size': 2} \n",
      "Best score:  0.251833333333\n",
      "\n",
      "training time:  262.131\n",
      "\n",
      "--------------------------------------\n",
      "\n",
      "Using:  SVC(C=1.0, cache_size=200, class_weight=None, coef0=0.0,\n",
      "  decision_function_shape=None, degree=3, gamma='auto', kernel='rbf',\n",
      "  max_iter=-1, probability=False, random_state=None, shrinking=True,\n",
      "  tol=0.001, verbose=False) \n",
      "With parameters:  {'clf__gamma': [1e-05, 0.001, 0.1, 1, 10.0, 100.0], 'ft_select__k': [5, 10, 15], 'clf__C': [1, 1.5, 2, 5, 10], 'clf__kernel': ['rbf']}\n",
      "Best parameters:  {'clf__gamma': 10.0, 'ft_select__k': 5, 'clf__C': 2, 'clf__kernel': 'rbf'} \n",
      "Best score:  0.102333333333\n",
      "\n",
      "training time:  91.592\n",
      "\n",
      "--------------------------------------\n",
      "\n",
      "Using:  DecisionTreeClassifier(class_weight=None, criterion='gini', max_depth=None,\n",
      "            max_features=None, max_leaf_nodes=None, min_samples_leaf=1,\n",
      "            min_samples_split=2, min_weight_fraction_leaf=0.0,\n",
      "            presort=False, random_state=None, splitter='best') \n",
      "With parameters:  {'clf__splitter': ['best'], 'ft_select__k': [5, 10, 15], 'clf__max_depth': [5, 10, 15], 'clf__min_samples_leaf': [2, 3, 5, 10, 12, 15, 20], 'clf__min_samples_split': [2, 3, 5, 10, 12, 15, 20]}\n",
      "Best parameters:  {'clf__splitter': 'best', 'ft_select__k': 15, 'clf__max_depth': 15, 'clf__min_samples_leaf': 2, 'clf__min_samples_split': 15} \n",
      "Best score:  0.292595238095\n",
      "\n",
      "training time:  402.261\n",
      "\n",
      "--------------------------------------\n",
      "\n"
     ]
    }
   ],
   "source": [
    "from sklearn.grid_search import GridSearchCV\n",
    "from sklearn.cross_validation import StratifiedShuffleSplit\n",
    "from sklearn.metrics import classification_report, precision_score\n",
    "from sklearn.pipeline import Pipeline\n",
    "from sklearn.preprocessing import MinMaxScaler, RobustScaler\n",
    "from time import time\n",
    "\n",
    "data = featureFormat(my_dataset, features_list, sort_keys = True)\n",
    "labels, features = targetFeatureSplit(data)\n",
    "\n",
    "clfs = [GaussianNB(), KNeighborsClassifier(), SVC(), DecisionTreeClassifier()]\n",
    "\n",
    "params = [{ #Naive Bayes\n",
    "        'ft_select__k' : [5, 10, 15]\n",
    "    },\n",
    "          { #K Nearest Neighbors\n",
    "        'ft_select__k' : [5, 10, 15],\n",
    "        'clf__n_neighbors' : [2, 3, 5, 10, 30],\n",
    "        'clf__leaf_size' : [2, 8, 10, 14, 30],\n",
    "        'clf__weights' : ['uniform', 'distance'],\n",
    "        'clf__algorithm' : ['ball_tree', 'kd_tree']\n",
    "    },\n",
    "        { #Support Vector Machine\n",
    "        'ft_select__k' : [5, 10, 15],\n",
    "        'clf__kernel' : ['rbf'],\n",
    "        'clf__C': [1, 1.5, 2, 5, 10],\n",
    "        'clf__gamma' :[0.00001, 0.001, 0.1, 1, 10.0, 100.0]\n",
    "    },\n",
    "         {#DecisionTree\n",
    "        'ft_select__k' : [5, 10, 15],\n",
    "        'clf__min_samples_split' : [2, 3, 5, 10, 12, 15, 20],\n",
    "        'clf__min_samples_leaf' : [2, 3, 5, 10, 12, 15, 20],\n",
    "        'clf__max_depth' : [5, 10, 15],\n",
    "        'clf__splitter' : ['best']\n",
    "    }]\n",
    "\n",
    "for x in range(0,4):\n",
    "    t0 = time()\n",
    "    print \"Using: \", clfs[x], \"\\nWith parameters: \", params[x]\n",
    "\n",
    "    steps = [\n",
    "        ('scaler', StandardScaler()),\n",
    "        ('ft_select', SelectKBest()),\n",
    "        ('clf', clfs[x])]    \n",
    "    \n",
    "    cv = StratifiedShuffleSplit(labels, n_iter=100, test_size=0.1, random_state=24)\n",
    "    grid = GridSearchCV(Pipeline(steps), param_grid=params[x], cv=cv, scoring=\"f1\")\n",
    "    grid.fit(features, labels)\n",
    "\n",
    "    print \"Best parameters: \", grid.best_params_, \n",
    "    print \"\\nBest score: \", grid.best_score_\n",
    "    print \"\\ntraining time: \", round(time()-t0, 3)\n",
    "    print \"\\n--------------------------------------\\n\"\n",
    "    \n",
    "    "
   ]
  },
  {
   "cell_type": "code",
   "execution_count": null,
   "metadata": {
    "collapsed": false
   },
   "outputs": [],
   "source": []
  },
  {
   "cell_type": "code",
   "execution_count": null,
   "metadata": {
    "collapsed": true
   },
   "outputs": [],
   "source": []
  }
 ],
 "metadata": {
  "kernelspec": {
   "display_name": "Python 2",
   "language": "python",
   "name": "python2"
  },
  "language_info": {
   "codemirror_mode": {
    "name": "ipython",
    "version": 2
   },
   "file_extension": ".py",
   "mimetype": "text/x-python",
   "name": "python",
   "nbconvert_exporter": "python",
   "pygments_lexer": "ipython2",
   "version": "2.7.12"
  }
 },
 "nbformat": 4,
 "nbformat_minor": 0
}
